{
 "cells": [
  {
   "cell_type": "code",
   "execution_count": null,
   "metadata": {
    "collapsed": true
   },
   "outputs": [],
   "source": [
    "#!/usr/bin/env python"
   ]
  },
  {
   "cell_type": "code",
   "execution_count": null,
   "metadata": {
    "collapsed": true
   },
   "outputs": [],
   "source": [
    "#The previous line is for to enable the script to be run as executable from terminals. chmod is the command to give it the permissions to do so"
   ]
  },
  {
   "cell_type": "code",
   "execution_count": null,
   "metadata": {
    "collapsed": false
   },
   "outputs": [],
   "source": [
    "#imports\n",
    "import sys\n",
    "from pyraf import iraf\n",
    "import os\n",
    "import fileinput\n",
    "import time\n",
    "from astropy.io import ascii\n",
    "import math\n",
    "import numpy as np\n",
    "from operator import truediv\n",
    "import csv\n",
    "import progressbar"
   ]
  },
  {
   "cell_type": "code",
   "execution_count": null,
   "metadata": {
    "collapsed": false
   },
   "outputs": [],
   "source": [
    "#iraf packages needed to be called to simplify things later\n",
    "iraf.noao()\n",
    "iraf.imred()\n",
    "iraf.ccdred()\n",
    "iraf.digiphot()\n",
    "iraf.daophot()\n",
    "iraf.images()\n",
    "iraf.tv()"
   ]
  },
  {
   "cell_type": "code",
   "execution_count": null,
   "metadata": {
    "collapsed": false
   },
   "outputs": [],
   "source": [
    "#interactive mode choice - the user will be able to change the files after each step if he chosses y\n",
    "while True:\n",
    "    interactivity = raw_input(\"Do you want interactive mode (to be able to replace files on fly)? (y/n) \\t\")\n",
    "    if (interactivity == \"n\") | (interactivity == \"N\"):\n",
    "        break\n",
    "    if (interactivity == \"y\") | (interactivity == \"Y\"):\n",
    "        break\n",
    "if (interactivity == \"N\"):\n",
    "    interactivity = \"n\"\n",
    "if (interactivity == \"Y\"):\n",
    "    interactivity = \"y\""
   ]
  },
  {
   "cell_type": "code",
   "execution_count": null,
   "metadata": {
    "collapsed": true
   },
   "outputs": [],
   "source": [
    "#switch to the images directory\n",
    "while True:\n",
    "    imagedirectory = raw_input(\"Please insert the directory of the images:\\t\")\n",
    "    if os.path.isdir(imagedirectory):\n",
    "        break\n",
    "os.chdir(imagedirectory)"
   ]
  },
  {
   "cell_type": "code",
   "execution_count": null,
   "metadata": {
    "collapsed": false
   },
   "outputs": [],
   "source": [
    "#input bias list\n",
    "bias = raw_input(\"Input Bias List:\\t\")\n",
    "biaslist = '@' + bias"
   ]
  },
  {
   "cell_type": "code",
   "execution_count": null,
   "metadata": {
    "collapsed": true
   },
   "outputs": [],
   "source": [
    "#Does the user want bias-subtraction?\n",
    "while True:\n",
    "    hewantsbias=raw_input(\"Do you want bias-subtraction?\\t\")\n",
    "    if (hewantsbias == \"N\"):\n",
    "        hewantsbias = \"n\"\n",
    "    if (hewantsbias == \"Y\"):\n",
    "        hewantsbias = \"y\"\n",
    "    if (hewantsbias == \"y\"):\n",
    "        break\n",
    "    if (hewantsbias == \"n\"):\n",
    "        break"
   ]
  },
  {
   "cell_type": "code",
   "execution_count": null,
   "metadata": {
    "collapsed": false
   },
   "outputs": [],
   "source": [
    "#combining bias\n",
    "if (hewantsbias == \"y\"):\n",
    "    iraf.unlearn(\"zerocombine\")\n",
    "    iraf.noao.imred.ccdred.zerocombine(biaslist, output=\"BIAS.fit\", combine=\"average\", rdnoise=8.1, gain=2.867, ccdtype=\"\")\n",
    "    if (interactivity==\"y\"):\n",
    "        dummy = raw_input(\"If you want replace BIAS.fit do it now then if you want to turn off interactivity answer n \\t\")\n",
    "        if (dummy==\"n\") | (dummy==\"N\"):\n",
    "            interactivity = \"n\"\n",
    "    iraf.unlearn(\"zerocombine\")"
   ]
  },
  {
   "cell_type": "code",
   "execution_count": null,
   "metadata": {
    "collapsed": false
   },
   "outputs": [],
   "source": [
    "#choosing filter number and names\n",
    "while True:\n",
    "    numfil = input(\"Number of filters to be used (counting continuum):\\t\")\n",
    "    if isinstance( numfil, int ):\n",
    "        break\n",
    "filtnames = []\n",
    "i = 0\n",
    "while True:\n",
    "    if i < numfil:\n",
    "        tmp = raw_input(\"Enter name of filter %01d:\\t\" % (i+1))\n",
    "        filtnames.append(tmp)\n",
    "        i = i+1\n",
    "    else:\n",
    "        break\n",
    "print(filtnames)"
   ]
  },
  {
   "cell_type": "code",
   "execution_count": null,
   "metadata": {
    "collapsed": false
   },
   "outputs": [],
   "source": [
    "#assuming the initial file lists (flat- and imagelists) and telling the user to have them prepared\n",
    "flats = []\n",
    "for i in range (0,len(filtnames)):\n",
    "    flats.append(\"flatlist_\" + filtnames[i])\n",
    "imagelists = []\n",
    "for i in range (0,len(filtnames)):\n",
    "    imagelists.append(\"images_\" + filtnames[i])\n",
    "print(\"Please make sure you have the following file lists saved in the directory you are using:\")\n",
    "print(flats)\n",
    "print(imagelists)\n",
    "dummy = raw_input()"
   ]
  },
  {
   "cell_type": "code",
   "execution_count": null,
   "metadata": {
    "collapsed": false
   },
   "outputs": [],
   "source": [
    "#creating the output lists\n",
    "for i in range (0,len(flats)):\n",
    "    os.system(\"cp %s %s\" % (flats[i],flats[i]+\"_b\"))\n",
    "for i in range (0,len(imagelists)):\n",
    "    os.system(\"cp %s %s\" % (imagelists[i],imagelists[i]+\"_b\"))\n",
    "for i in range (0,len(imagelists)):\n",
    "    os.system(\"cp %s %s\" % (imagelists[i],imagelists[i]+\"_b_f\"))\n",
    "for i in range (0,len(imagelists)):\n",
    "    os.system(\"cp %s %s\" % (imagelists[i],imagelists[i]+\"_b_f_sh\"))"
   ]
  },
  {
   "cell_type": "code",
   "execution_count": null,
   "metadata": {
    "collapsed": false
   },
   "outputs": [],
   "source": [
    "#flling in the output lists\n",
    "for i in range (0,len(flats)):\n",
    "    file = fileinput.FileInput(flats[i]+\"_b\", inplace=True)\n",
    "    for line in file:\n",
    "        print(line.replace(\".fit\", \"_b.fit\"))\n",
    "    os.system(\"grep -v '^$' %s > tmpremoveline\" %(flats[i]+\"_b\"))\n",
    "    os.system(\"rm %s\" %(flats[i]+\"_b\"))\n",
    "    os.system(\"mv tmpremoveline %s\" %(flats[i]+\"_b\"))\n",
    "    os.system(\"rm tmpremoveline\")\n",
    "    file.close()\n",
    "for i in range (0,len(imagelists)):\n",
    "    file = fileinput.FileInput(imagelists[i]+\"_b\", inplace=True)\n",
    "    for line in file:\n",
    "        print(line.replace(\".fit\", \"_b.fit\"))\n",
    "    os.system(\"grep -v '^$' %s > tmpremoveline\" %(imagelists[i]+\"_b\"))\n",
    "    os.system(\"rm %s\" %(imagelists[i]+\"_b\"))\n",
    "    os.system(\"mv tmpremoveline %s\" %(imagelists[i]+\"_b\"))\n",
    "    os.system(\"rm tmpremoveline\")\n",
    "    file.close()\n",
    "for i in range (0,len(imagelists)):\n",
    "    file = fileinput.FileInput(imagelists[i]+\"_b_f\", inplace=True)\n",
    "    for line in file:\n",
    "        print(line.replace(\".fit\", \"_b_f.fit\"))\n",
    "    os.system(\"grep -v '^$' %s > tmpremoveline\" %(imagelists[i]+\"_b_f\"))\n",
    "    os.system(\"rm %s\" %(imagelists[i]+\"_b_f\"))\n",
    "    os.system(\"mv tmpremoveline %s\" %(imagelists[i]+\"_b_f\"))\n",
    "    os.system(\"rm tmpremoveline\")\n",
    "    file.close()\n",
    "for i in range (0,len(imagelists)):\n",
    "    file = fileinput.FileInput(imagelists[i]+\"_b_f_sh\", inplace=True)\n",
    "    for line in file:\n",
    "        print(line.replace(\".fit\", \"_b_f_sh.fit\"))\n",
    "    os.system(\"grep -v '^$' %s > tmpremoveline\" %(imagelists[i]+\"_b_f_sh\"))\n",
    "    os.system(\"rm %s\" %(imagelists[i]+\"_b_f_sh\"))\n",
    "    os.system(\"mv tmpremoveline %s\" %(imagelists[i]+\"_b_f_sh\"))\n",
    "    os.system(\"rm tmpremoveline\")\n",
    "    file.close()"
   ]
  },
  {
   "cell_type": "code",
   "execution_count": null,
   "metadata": {
    "collapsed": false
   },
   "outputs": [],
   "source": [
    "#biassubtract flats\n",
    "if (hewantsbias == \"y\"):\n",
    "    for i in range (0,len(flats)):\n",
    "        iraf.unlearn(\"ccdproc\")\n",
    "        iraf.noao.imred.ccdred.ccdproc(images=(\"@\"+flats[i]), output=(\"@\"+flats[i]+\"_b\"), ccdtype=\"\", fixpix=\"no\", overscan=\"no\", trim=\"no\", darkcor=\"no\", flatcor=\"no\", zero=\"BIAS.fit\")\n",
    "    iraf.unlearn(\"ccdproc\")"
   ]
  },
  {
   "cell_type": "code",
   "execution_count": null,
   "metadata": {
    "collapsed": true
   },
   "outputs": [],
   "source": [
    "#biassubtract images\n",
    "if (hewantsbias == \"y\"):\n",
    "    for i in range (0,len(imagelists)):\n",
    "        iraf.unlearn(\"ccdproc\")\n",
    "        iraf.noao.imred.ccdred.ccdproc(images=(\"@\"+imagelists[i]), output=(\"@\"+imagelists[i]+\"_b\"), ccdtype=\"\", fixpix=\"no\", overscan=\"no\", trim=\"no\", darkcor=\"no\", flatcor=\"no\", zero=\"BIAS.fit\")\n",
    "    iraf.unlearn(\"ccdproc\")"
   ]
  },
  {
   "cell_type": "code",
   "execution_count": null,
   "metadata": {
    "collapsed": false
   },
   "outputs": [],
   "source": [
    "#interactivity check\n",
    "if (interactivity==\"y\"):\n",
    "    dummy = raw_input(\"If you want replace the bias-subtracted images (*_b.fit) do it now then if you want to turn off interactivity answer n \\t\")\n",
    "    if (dummy==\"n\") | (dummy==\"N\"):\n",
    "        interactivity = \"n\""
   ]
  },
  {
   "cell_type": "code",
   "execution_count": null,
   "metadata": {
    "collapsed": true
   },
   "outputs": [],
   "source": [
    "#Does the user want flat-subtraction?\n",
    "while True:\n",
    "    hewantsflat=raw_input(\"Do you want flat-subtraction?\")\n",
    "    if (hewantsflat == \"N\"):\n",
    "        hewantsflat = \"n\"\n",
    "    if (hewantsflat == \"Y\"):\n",
    "        hewantsflat = \"y\"\n",
    "    if (hewantsflat == \"y\"):\n",
    "        break\n",
    "    if (hewantsflat == \"n\"):\n",
    "        break"
   ]
  },
  {
   "cell_type": "code",
   "execution_count": null,
   "metadata": {
    "collapsed": false
   },
   "outputs": [],
   "source": [
    "#combining flats\n",
    "if (hewantsflat == \"y\"):\n",
    "    for i in range (0,len(flats)):\n",
    "        iraf.unlearn(\"immatch\")\n",
    "        iraf.images.immatch.imcombine(input=(\"@\"+flats[i]+\"_b\"), output=(\"FLAT_\"+filtnames[i]+\".fit\"), combine=\"median\", rdnoise=8.1, gain=2.867)\n",
    "        iraf.unlearn(\"immatch\")\n",
    "        iraf.unlearn(\"imstatistics\")\n",
    "        flat_mean = iraf.images.imutil.imstatistics(images=(\"FLAT_\"+filtnames[i]+\".fit\"), fields=\"mean\", format=\"No\", Stdout=1)\n",
    "        iraf.unlearn(\"imstatistics\")\n",
    "        flat_mean_num = float(flat_mean[0])\n",
    "        if flat_mean_num==0:\n",
    "            print(\"Error on flat image %s\" %flats[i])\n",
    "            sys.exit()\n",
    "        iraf.unlearn(\"imarith\")\n",
    "        iraf.images.imutil.imarith(operand1=(\"FLAT_\"+filtnames[i]+\".fit\"), op=\"/\", operand2=flat_mean_num, result=(\"FLAT_\"+filtnames[i]+\"_norm.fit\"))\n",
    "        iraf.unlearn(\"imarith\")"
   ]
  },
  {
   "cell_type": "code",
   "execution_count": null,
   "metadata": {
    "collapsed": false
   },
   "outputs": [],
   "source": [
    "#interactivity check\n",
    "if (hewantsflat == \"y\"):\n",
    "    if (interactivity==\"y\"):\n",
    "        dummy = raw_input(\"If you want replace the flat images (FLAT_*_norm.fit) do it now then if you want to turn off interactivity answer n \\t\")\n",
    "        if (dummy==\"n\") | (dummy==\"N\"):\n",
    "            interactivity = \"n\""
   ]
  },
  {
   "cell_type": "code",
   "execution_count": null,
   "metadata": {
    "collapsed": false
   },
   "outputs": [],
   "source": [
    "#flat fielding\n",
    "if (hewantsflat == \"y\"):\n",
    "    for i in range (0,len(imagelists)):\n",
    "        iraf.unlearn(\"imarith\")\n",
    "        iraf.images.imutil.imarith(operand1=(\"@\"+imagelists[i]+\"_b\"), op=\"/\", operand2=(\"FLAT_\"+filtnames[i]+\"_norm.fit\"), result=(\"@\"+imagelists[i]+\"_b_f\"))\n",
    "        iraf.unlearn(\"imarith\")"
   ]
  },
  {
   "cell_type": "code",
   "execution_count": null,
   "metadata": {
    "collapsed": false
   },
   "outputs": [],
   "source": [
    "#interactivity check\n",
    "if (hewantsflat == \"y\"):\n",
    "    if (interactivity==\"y\"):\n",
    "        dummy = raw_input(\"If you want replace the flat-fielded images (*_f.fit) do it now then if you want to turn off interactivity answer n \\t\")\n",
    "        if (dummy==\"n\") | (dummy==\"N\"):\n",
    "            interactivity = \"n\""
   ]
  },
  {
   "cell_type": "code",
   "execution_count": null,
   "metadata": {
    "collapsed": false
   },
   "outputs": [],
   "source": [
    "#merged image lists\n",
    "imagelists_b_f = []\n",
    "imagelists_b_f_sh = []\n",
    "for item in imagelists:\n",
    "    imagelists_b_f.append(item + \"_b_f\")\n",
    "    imagelists_b_f_sh.append(item + \"_b_f_sh\")\n",
    "with open(\"merged_b_f\", \"wb\") as outfile:\n",
    "    for f in imagelists_b_f:\n",
    "        with open(f, \"rb\") as infile:\n",
    "            outfile.write(infile.read())\n",
    "with open(\"merged_b_f_sh\", \"wb\") as outfile:\n",
    "    for f in imagelists_b_f_sh:\n",
    "        with open(f, \"rb\") as infile:\n",
    "            outfile.write(infile.read())"
   ]
  },
  {
   "cell_type": "code",
   "execution_count": null,
   "metadata": {
    "collapsed": true
   },
   "outputs": [],
   "source": [
    "#Does the user want alignment?\n",
    "while True:\n",
    "    hewantsalignment=raw_input(\"Do you want to align images?\")\n",
    "    if (hewantsalignment == \"N\"):\n",
    "        hewantsalignment = \"n\"\n",
    "    if (hewantsalignment == \"Y\"):\n",
    "        hewantsalignment = \"y\"\n",
    "    if (hewantsalignment == \"y\"):\n",
    "        break\n",
    "    if (hewantsalignment == \"n\"):\n",
    "        break"
   ]
  },
  {
   "cell_type": "code",
   "execution_count": null,
   "metadata": {
    "collapsed": false
   },
   "outputs": [],
   "source": [
    "#interactivity check\n",
    "if (hewantsalignment == \"y\"):\n",
    "    if (interactivity==\"y\"):\n",
    "        dummy = raw_input(\"If you want replace the reference image for the alignment do it now editing the merged_b_f and merged_b_f_sh lists putting the desired image first then if you want to turn off interactivity answer n \\t\")\n",
    "        if (dummy==\"n\") | (dummy==\"N\"):\n",
    "            interactivity = \"n\""
   ]
  },
  {
   "cell_type": "code",
   "execution_count": null,
   "metadata": {
    "collapsed": false
   },
   "outputs": [],
   "source": [
    "#determining the reference image for the alignment\n",
    "with open(\"merged_b_f\", \"r\") as f:\n",
    "    referenceim = f.readline()\n",
    "print(\"Reference Image:\\t\" + referenceim)"
   ]
  },
  {
   "cell_type": "code",
   "execution_count": null,
   "metadata": {
    "collapsed": false
   },
   "outputs": [],
   "source": [
    "#star-picking for the alignment\n",
    "if (hewantsalignment == \"y\"):\n",
    "    print(\"Now the images will be shifted\")\n",
    "    bbox = input(\"Enter a rough estimate of the max shift needed\\t\")\n",
    "    sbox = input(\"Enter a rough estimate of the FWHM\\t\")\n",
    "    bbox = int(2*bbox)\n",
    "    sbox = sbox+2\n",
    "    os.system(\"ds9 &\")\n",
    "    print(\"You are now to select 5-10 stars that are isolated and well-defined\")\n",
    "    referenceim = referenceim.rstrip(\"\\n\")\n",
    "    time.sleep(10)\n",
    "    iraf.unlearn(\"display\")\n",
    "    iraf.images.tv.display(image=referenceim, frame=1, fill=\"Yes\")\n",
    "    iraf.unlearn(\"display\")\n",
    "    iraf.unlearn(\"imexamine\")\n",
    "    iraf.images.tv.imexamine(input=referenceim, frame=1, logfile=\"aligcoordslog\", keeplog=\"Yes\")\n",
    "    iraf.unlearn(\"imexamine\")"
   ]
  },
  {
   "cell_type": "code",
   "execution_count": null,
   "metadata": {
    "collapsed": true
   },
   "outputs": [],
   "source": [
    "#interactivity check\n",
    "if (hewantsalignment == \"y\"):\n",
    "    if (interactivity==\"y\"):\n",
    "        dummy = raw_input(\"If you want replace the coordinates file (aligcoordslog) then if you want to turn off interactivity answer n \\t\")\n",
    "        if (dummy==\"n\") | (dummy==\"N\"):\n",
    "            interactivity = \"n\""
   ]
  },
  {
   "cell_type": "code",
   "execution_count": null,
   "metadata": {
    "collapsed": false
   },
   "outputs": [],
   "source": [
    "#alignment and looping for misalignment until user is satisfied\n",
    "if (hewantsalignment == \"y\"):\n",
    "    correct = \"n\"\n",
    "    counter = 1\n",
    "    while True:\n",
    "        if correct==\"n\":\n",
    "            sbox = sbox - 1\n",
    "            bbox = 1.1*bbox\n",
    "            if counter>1:\n",
    "                os.system(\"rm -rf *_sh.fit\")\n",
    "            iraf.unlearn(\"imalign\")\n",
    "            iraf.images.immatch.imalign(input=\"@merged_b_f\", reference=referenceim, coords=\"aligcoordslog\", output=\"@merged_b_f_sh\", niterate=200, boxsize=sbox, bigbox=bbox)\n",
    "            iraf.unlearn(\"imalign\")\n",
    "        print(\"Please examine if the alignment was correct. Close ds9 and answer y/n. If you answer with something other than 'y' or 'n' the result won't change\")\n",
    "        os.system(\"ds9 *_sh.fit\")\n",
    "        correct = raw_input()\n",
    "        if counter==10:\n",
    "            break\n",
    "        if correct==\"y\":\n",
    "            break\n",
    "        counter = counter + 1\n",
    "    if counter==10:\n",
    "        failalign = raw_input(\"I cannot align the images. Either the max shift and FWHM was incorrect or the images are bad.  Please align them yourself, replace the existing *_sh.fit files aand hit enter\")"
   ]
  },
  {
   "cell_type": "code",
   "execution_count": null,
   "metadata": {
    "collapsed": true
   },
   "outputs": [],
   "source": [
    "#Does the user want combination?\n",
    "while True:\n",
    "    hewantscombine=raw_input(\"Do you want to median combine the images?\")\n",
    "    if (hewantscombine == \"N\"):\n",
    "        hewantscombine = \"n\"\n",
    "    if (hewantscombine == \"Y\"):\n",
    "        hewantscombine = \"y\"\n",
    "    if (hewantscombine == \"y\"):\n",
    "        break\n",
    "    if (hewantscombine == \"n\"):\n",
    "        break"
   ]
  },
  {
   "cell_type": "code",
   "execution_count": null,
   "metadata": {
    "collapsed": false
   },
   "outputs": [],
   "source": [
    "#combining the aligned images\n",
    "basename=raw_input(\"Please enter the base name of your images\\t\")\n",
    "if (hewantscombine == \"y\"):\n",
    "    for i in range(0,len(imagelists_b_f_sh)):\n",
    "        iraf.unlearn(\"imcombine\")\n",
    "        iraf.images.immatch.imcombine(input=(\"@\"+imagelists_b_f_sh[i]), output=(basename+\"_\"+filtnames[i]+\".fit\"), combine=\"median\", rdnoise=8.1, gain=2.867)\n",
    "        iraf.unlearn(\"imcombine\")"
   ]
  },
  {
   "cell_type": "code",
   "execution_count": null,
   "metadata": {
    "collapsed": true
   },
   "outputs": [],
   "source": [
    "#Does the user want WCS?\n",
    "while True:\n",
    "    hewantswcs=raw_input(\"Do you want to add WCS to the images?\")\n",
    "    if (hewantswcs == \"N\"):\n",
    "        hewantswcs = \"n\"\n",
    "    if (hewantswcs == \"Y\"):\n",
    "        hewantswcs = \"y\"\n",
    "    if (hewantswcs == \"y\"):\n",
    "        break\n",
    "    if (hewantswcs == \"n\"):\n",
    "        break"
   ]
  },
  {
   "cell_type": "code",
   "execution_count": null,
   "metadata": {
    "collapsed": false
   },
   "outputs": [],
   "source": [
    "#adding WCS and removing residual files\n",
    "directory = os.getcwd()\n",
    "if (hewantswcs == \"y\"):\n",
    "    for i in filtnames:\n",
    "        os.system(\"mkdir %s\" %i)\n",
    "        os.system(\"cp %s %s\" %(basename+\"_\"+i+\".fit\", i))\n",
    "    roughestimatera=raw_input(\"Enter a rough estimate for the R.A. in HH:MM:SS :\\t\")\n",
    "    roughestimatedec=raw_input(\"Enter a rough estimate for the Dec. in HH:MM:SS :\\t\")\n",
    "    directory = os.getcwd()\n",
    "    for i in filtnames:\n",
    "        os.chdir(directory + \"/\" + i)\n",
    "        os.system(\"solve-field --ra=%s --dec=%s -5 0.5 --out=%s -t=2 %s\" %(roughestimatera, roughestimatedec, \"test.fit\", basename+\"_\"+i+\".fit\"))\n",
    "        os.system(\"mv test.new %s\" % (basename+\"_\"+i+\"_W.fit\"))\n",
    "        os.system(\"rm %s %s %s %s %s %s %s %s %s %s\" %(\"test-ngc.png\",\"test.wcs\",\"test-objs.png\",\"test-indx.png\",\"test-indx.xyls\",\"test.rdls\",\"test.axy\",\"test.solved\",\"test.match\",\"test.corr\"))\n",
    "        if not os.path.isfile(basename+\"_\"+i+\"_W.fit\"):\n",
    "            os.system(\"cp %s %s\" %((basename+\"_\"+i+\".fit\"),(basename+\"_\"+i+\"_W.fit\")))\n",
    "        print(\"ds9 will now be opened. Check if you like the WCS that was added to the image and then close ds9, replace the image if needed and hit enter\")\n",
    "        #os.system(\"ds9 %s\" %(basename+\"_\"+i+\"_W.fit\"))\n",
    "        #hahaha=raw_input(\"\")\n",
    "    os.chdir(directory)"
   ]
  },
  {
   "cell_type": "code",
   "execution_count": null,
   "metadata": {
    "collapsed": false
   },
   "outputs": [],
   "source": [
    "#ALLSTAR!\n",
    "for i in range(0,len(filtnames)):\n",
    "    #Does the user want allstar?\n",
    "    while True:\n",
    "        hewantsallstar=raw_input(\"Do you want to allstar the %s image?\" %(filtnames[i]))\n",
    "        if (hewantsallstar == \"N\"):\n",
    "            hewantsallstar = \"n\"\n",
    "        if (hewantsallstar == \"Y\"):\n",
    "            hewantsallstar = \"y\"\n",
    "        if (hewantsallstar == \"y\"):\n",
    "            break\n",
    "        if (hewantsallstar == \"n\"):\n",
    "            break\n",
    "    os.chdir(directory + \"/\" + filtnames[i])\n",
    "    photalreadyexists=os.path.isfile(\"photometry1.mag\")\n",
    "    os.chdir(directory)\n",
    "    if ((hewantsallstar == \"n\") and not photalreadyexists):\n",
    "        iraf.unlearn(\"display\")\n",
    "        iraf.unlearn(\"imexamine\")\n",
    "        os.chdir(directory + \"/\" + filtnames[i])\n",
    "        exptime=input(\"Enter exposure time of the %s image in seconds\" %filtnames[i])\n",
    "        exptime=int(exptime)\n",
    "        print(\"Now the %s image will be displayed. Please use the a keystroke on stars across the image to calculate the FWHM, and the m keystroke on background spots to calculate the backgound standard deviation. When you are done press q\" %filtnames[i])\n",
    "        os.system(\"ds9 &\")\n",
    "        time.sleep(10)\n",
    "        iraf.images.tv.display(image=(basename+\"_\"+filtnames[i]+\".fit\"), frame=1, fill=\"Yes\")\n",
    "        iraf.images.tv.imexamine(input=(basename+\"_\"+filtnames[i]+\".fit\"), frame=1, keeplog=\"No\")\n",
    "        userpsf=input(\"Please enter your estimate of the FWHM (based on the above results)\\t\")\n",
    "        userbgsigma=input(\"Please enter your estimate of the backgound standard deviation (based on the above results)\\t\")\n",
    "        iraf.unlearn(\"display\")\n",
    "        iraf.unlearn(\"datapars\")\n",
    "        iraf.unlearn(\"findpars\")\n",
    "        iraf.unlearn(\"daofind\")\n",
    "        iraf.unlearn(\"centerpars\")\n",
    "        iraf.unlearn(\"fitskypars\")\n",
    "        iraf.unlearn(\"photpars\")\n",
    "        iraf.unlearn(\"phot\")\n",
    "        iraf.unlearn(\"daopars\")\n",
    "        iraf.unlearn(\"psf\")\n",
    "        iraf.unlearn(\"pstselect\")\n",
    "        iraf.unlearn(\"allstar\")\n",
    "        iraf.unlearn(\"pfmerge\")\n",
    "        iraf.noao.digiphot.daophot.datapars.setParam('scale',1)\n",
    "        iraf.noao.digiphot.daophot.datapars.setParam('fwhmpsf',userpsf)\n",
    "        iraf.noao.digiphot.daophot.datapars.setParam('sigma',userbgsigma)\n",
    "        iraf.noao.digiphot.daophot.datapars.setParam('noise',\"poisson\")\n",
    "        iraf.noao.digiphot.daophot.datapars.setParam('emission',\"Yes\")\n",
    "        iraf.noao.digiphot.daophot.datapars.setParam('readnoise',8.1)\n",
    "        iraf.noao.digiphot.daophot.datapars.setParam('epadu',2.867)\n",
    "        iraf.noao.digiphot.daophot.datapars.setParam('itime',exptime)\n",
    "        iraf.noao.digiphot.daophot.findpars.setParam('threshold',4)\n",
    "        wdihtdtn=os.getcwd()\n",
    "        print(wdihtdtn)\n",
    "        print(basename+\"_\"+filtnames[i]+\"_W.fit\")\n",
    "        iraf.noao.digiphot.daophot.daofind(image=(wdihtdtn+\"/\"+basename+\"_\"+filtnames[i]+\"_W.fit\"), output=\"catalog1.coo\", boundary=\"nearest\", constant=0, verify=\"No\")\n",
    "        iraf.noao.digiphot.daophot.centerpars.setParam('calgorithm',\"centroid\")\n",
    "        iraf.noao.digiphot.daophot.centerpars.setParam('cbox',5)\n",
    "        iraf.noao.digiphot.daophot.fitskypars.setParam('salgorithm',\"mode\")\n",
    "        iraf.noao.digiphot.daophot.fitskypars.setParam('annulus',(3*userpsf))\n",
    "        iraf.noao.digiphot.daophot.fitskypars.setParam('dannulus',8)\n",
    "        iraf.noao.digiphot.daophot.fitskypars.setParam('skyvalue',0)\n",
    "        iraf.noao.digiphot.daophot.fitskypars.setParam('smaxiter',20)\n",
    "        iraf.noao.digiphot.daophot.photpars.setParam('weighting',\"constant\")\n",
    "        iraf.noao.digiphot.daophot.photpars.setParam('apertures',((2*userpsf)+3))\n",
    "        iraf.noao.digiphot.daophot.phot(image=(basename+\"_\"+filtnames[i]+\"_W.fit\"), coords=\"catalog1.coo\", output=\"photometry1.mag\", verify=\"No\")\n",
    "    if (hewantsallstar == \"y\"):\n",
    "        iraf.unlearn(\"display\")\n",
    "        iraf.unlearn(\"imexamine\")\n",
    "        os.chdir(directory + \"/\" + filtnames[i])\n",
    "        while True:\n",
    "            crowded=raw_input(\"Do you think the %s image is crowded? y/n\\t\" %filtnames[i])\n",
    "            if crowded==\"y\":\n",
    "                crowded=\"Yes\"\n",
    "                break\n",
    "            if crowded==\"n\":\n",
    "                crowded=\"No\"\n",
    "                break\n",
    "        exptime=input(\"Enter exposure time of the %s image in seconds\" %filtnames[i])\n",
    "        exptime=int(exptime)\n",
    "        print(\"Now the %s image will be displayed. Please use the a keystroke on stars across the image to calculate the FWHM, and the m keystroke on background spots to calculate the backgound standard deviation. When you are done press q\" %filtnames[i])\n",
    "        os.system(\"ds9 &\")\n",
    "        time.sleep(10)\n",
    "        iraf.images.tv.display(image=(basename+\"_\"+filtnames[i]+\".fit\"), frame=1, fill=\"Yes\")\n",
    "        iraf.images.tv.imexamine(input=(basename+\"_\"+filtnames[i]+\".fit\"), frame=1, keeplog=\"No\")\n",
    "        userpsf=input(\"Please enter your estimate of the FWHM (based on the above results)\\t\")\n",
    "        userbgsigma=input(\"Please enter your estimate of the backgound standard deviation (based on the above results)\\t\")\n",
    "        iraf.unlearn(\"display\")\n",
    "        iraf.unlearn(\"datapars\")\n",
    "        iraf.unlearn(\"findpars\")\n",
    "        iraf.unlearn(\"daofind\")\n",
    "        iraf.unlearn(\"centerpars\")\n",
    "        iraf.unlearn(\"fitskypars\")\n",
    "        iraf.unlearn(\"photpars\")\n",
    "        iraf.unlearn(\"phot\")\n",
    "        iraf.unlearn(\"daopars\")\n",
    "        iraf.unlearn(\"psf\")\n",
    "        iraf.unlearn(\"pstselect\")\n",
    "        iraf.unlearn(\"allstar\")\n",
    "        iraf.unlearn(\"pfmerge\")\n",
    "        iraf.noao.digiphot.daophot.datapars.setParam('scale',1)\n",
    "        iraf.noao.digiphot.daophot.datapars.setParam('fwhmpsf',userpsf)\n",
    "        iraf.noao.digiphot.daophot.datapars.setParam('sigma',userbgsigma)\n",
    "        iraf.noao.digiphot.daophot.datapars.setParam('noise',\"poisson\")\n",
    "        iraf.noao.digiphot.daophot.datapars.setParam('emission',\"Yes\")\n",
    "        iraf.noao.digiphot.daophot.datapars.setParam('readnoise',8.1)\n",
    "        iraf.noao.digiphot.daophot.datapars.setParam('epadu',2.867)\n",
    "        iraf.noao.digiphot.daophot.datapars.setParam('itime',exptime)\n",
    "        iraf.noao.digiphot.daophot.findpars.setParam('threshold',4)\n",
    "        wdihtdtn=os.getcwd()\n",
    "        print(wdihtdtn)\n",
    "        print(basename+\"_\"+filtnames[i]+\"_W.fit\")\n",
    "        iraf.noao.digiphot.daophot.daofind(image=(wdihtdtn+\"/\"+basename+\"_\"+filtnames[i]+\"_W.fit\"), output=\"catalog1.coo\", boundary=\"nearest\", constant=0, verify=\"No\")\n",
    "        iraf.noao.digiphot.daophot.centerpars.setParam('calgorithm',\"centroid\")\n",
    "        iraf.noao.digiphot.daophot.centerpars.setParam('cbox',5)\n",
    "        iraf.noao.digiphot.daophot.fitskypars.setParam('salgorithm',\"mode\")\n",
    "        iraf.noao.digiphot.daophot.fitskypars.setParam('annulus',(3*userpsf))\n",
    "        iraf.noao.digiphot.daophot.fitskypars.setParam('dannulus',8)\n",
    "        iraf.noao.digiphot.daophot.fitskypars.setParam('skyvalue',0)\n",
    "        iraf.noao.digiphot.daophot.fitskypars.setParam('smaxiter',20)\n",
    "        iraf.noao.digiphot.daophot.photpars.setParam('weighting',\"constant\")\n",
    "        iraf.noao.digiphot.daophot.photpars.setParam('apertures',((2*userpsf)+3))\n",
    "        iraf.noao.digiphot.daophot.phot(image=(basename+\"_\"+filtnames[i]+\"_W.fit\"), coords=\"catalog1.coo\", output=\"photometry1.mag\", verify=\"No\")\n",
    "        notneeded=raw_input(\"You are now to select 90 stars that are very well-defined, based on their mesh profiles. The mesh profile of the next star is presented by pressing the n key on the ds9 window. The star is accepted by pressing a on the graph window or declined by pressing d on the graph window. When a message on the command window says that the max number of stars is reached, please go to the ds9 window and press q until the code resumes. If you happen to choose a wrong star, panic not. There will be a confirmation step later, where you will be able to remove the star from the list. Keep in mind that you have to note the ID of the star to do so. When you think you are ready press enter\")\n",
    "        os.system(\"ds9 &\")\n",
    "        time.sleep(10)\n",
    "        iraf.images.tv.display(image=(basename+\"_\"+filtnames[i]+\".fit\"), frame=1, fill=\"Yes\")\n",
    "        iraf.noao.digiphot.daophot.daopars.setParam('function',\"auto\")\n",
    "        iraf.noao.digiphot.daophot.daopars.setParam('varorder',2)\n",
    "        iraf.noao.digiphot.daophot.daopars.setParam('nclean',0)\n",
    "        iraf.noao.digiphot.daophot.daopars.setParam('saturated',\"No\")\n",
    "        iraf.noao.digiphot.daophot.daopars.setParam('matchrad',3)\n",
    "        iraf.noao.digiphot.daophot.daopars.setParam('psfrad',((2*userpsf)+3))\n",
    "        iraf.noao.digiphot.daophot.daopars.setParam('fitrad',(2*userpsf))\n",
    "        iraf.noao.digiphot.daophot.daopars.setParam('recenter',\"Yes\")\n",
    "        iraf.noao.digiphot.daophot.daopars.setParam('fitsky',\"Yes\")\n",
    "        iraf.noao.digiphot.daophot.daopars.setParam('groupsky',crowded)\n",
    "        iraf.noao.digiphot.daophot.daopars.setParam('sannulus',(3*userpsf))\n",
    "        iraf.noao.digiphot.daophot.daopars.setParam('wsannulus',8)\n",
    "        iraf.noao.digiphot.daophot.daopars.setParam('maxiter',100)\n",
    "        iraf.noao.digiphot.daophot.pstselect(image=(basename+\"_\"+filtnames[i]+\".fit\"), photfile=(\"photometry1.mag\"), pstfile=\"selection.pst\", maxnpsf=90, mkstars=\"Yes\", interactive=\"Yes\", verify=\"No\")\n",
    "        iraf.noao.digiphot.daophot.psf(image=(basename+\"_\"+filtnames[i]+\"_W.fit\"), photfile=(\"photometry1.mag\"), pstfile=\"selection.pst\", psfimage=\"model1.psf\", opstfile=\"selectedbypsf1.pst\", groupfile=\"group1.psg\", matchbyid=\"No\", interactive=\"No\", mkstars=\"No\", showplots=\"No\", verify=\"No\")\n",
    "        iraf.noao.digiphot.daophot.allstar(image=(basename+\"_\"+filtnames[i]+\"_W.fit\"), photfile=(\"photometry1.mag\"), psfimage=\"model1.psf\", allstarfile=\"allstar1.als\", rejfile=\"allstarrejects1.arj\", subimage=(basename+\"_\"+filtnames[i]+\"_W_allstarsub1.fit\"), verify=\"No\")\n",
    "        #second mandatory run - 2\n",
    "        iraf.noao.digiphot.daophot.daofind(image=(basename+\"_\"+filtnames[i]+\"_W_allstarsub1.fit\"), output=\"catalog2.coo\", boundary=\"nearest\", constant=0, verify=\"No\")\n",
    "        iraf.noao.digiphot.daophot.phot(image=(basename+\"_\"+filtnames[i]+\"_W_allstarsub1.fit\"), coords=\"catalog2.coo\", output=\"photometry2_1.mag\", verify=\"No\")\n",
    "        iraf.noao.digiphot.daophot.pfmerge(inphotfiles=(\"allstar1.als, photometry2_1.mag\"), outphotfile=\"photometry2.mag\")\n",
    "        iraf.noao.digiphot.daophot.allstar(image=(basename+\"_\"+filtnames[i]+\"_W.fit\"), photfile=(\"photometry2.mag\"), psfimage=\"model1.psf\", allstarfile=\"allstar2.als\", rejfile=\"allstarrejects2.arj\", subimage=(basename+\"_\"+filtnames[i]+\"_W_allstarsub2.fit\"), verify=\"No\")\n",
    "        #third mandatory run - 3\n",
    "        iraf.noao.digiphot.daophot.daofind(image=(basename+\"_\"+filtnames[i]+\"_W_allstarsub2.fit\"), output=\"catalog3.coo\", boundary=\"nearest\", constant=0, verify=\"No\")\n",
    "        iraf.noao.digiphot.daophot.phot(image=(basename+\"_\"+filtnames[i]+\"_W_allstarsub2.fit\"), coords=\"catalog3.coo\", output=\"photometry3_1.mag\", verify=\"No\")\n",
    "        iraf.noao.digiphot.daophot.pfmerge(inphotfiles=(\"allstar2.als, photometry3_1.mag\"), outphotfile=\"photometry3.mag\")\n",
    "        iraf.noao.digiphot.daophot.allstar(image=(basename+\"_\"+filtnames[i]+\"_W.fit\"), photfile=(\"photometry3.mag\"), psfimage=\"model1.psf\", allstarfile=\"allstar3.als\", rejfile=\"allstarrejects3.arj\", subimage=(basename+\"_\"+filtnames[i]+\"_W_allstarsub3.fit\"), verify=\"No\")\n",
    "        os.system(\"cp %s %s\" %((basename+\"_\"+filtnames[i]+\"_W_allstarsub3.fit\"), (basename+\"_\"+filtnames[i]+\"_W_allstarfin.fit\")))\n",
    "        allstarversion = 3\n",
    "        #while True until interrupt until the user does indeed like the result\n",
    "        '''while True:\n",
    "            os.system(\"ds9 %s\" %(basename+\"_\"+filtnames[i]+\"_W_allstarfin.fit\"))\n",
    "            allstargood=raw_input(\"Did you like the result on allstar subtracted image?\")\n",
    "            if (allstargood == \"N\"):\n",
    "                allstargood = \"n\"\n",
    "            if (allstargood == \"Y\"):\n",
    "                allstargood = \"y\"\n",
    "            if (allstargood == \"y\"):\n",
    "                break\n",
    "            iraf.daofind(image=((basename+\"_\"+filtnames[i]+\"_W_allstarsub%01d.fit\") %(allstarversion)), output=((\"catalog%01d.coo\") %(allstarversion+1)), boundary=\"nearest\", constant=0, verify=\"No\")\n",
    "            iraf.phot(image=((basename+\"_\"+filtnames[i]+\"_W_allstarsub%01d.fit\") %(allstarversion)), coords=((\"catalog%01d.coo\") %(allstarversion+1)), output=((\"photometry%01d_1.coo\") %(allstarversion+1)), verify=\"No\")\n",
    "            iraf.pfmerge(inphotfiles=((\"allstar%01d.als, photometry%01d_1.mag\") %(allstarversion, (allstarversion+1))), outphotfile=(\"photometry%01d.mag\" %(allstarversion+1))\n",
    "            iraf.allstar(image=(basename+\"_\"+filtnames[i]+\"_W.fit\"), photfile=(\"photometry%01d.mag\" %(allstarversion+1)), psfimage=\"model1.psf\", allstarfile=(\"allstar%01d.als\" %(allstarversion+1)), subimage=((basename+\"_\"+filtnames[i]+\"_W_allstarsub\"+str(allstarversion+1)+\".fit\")), verify=\"No\")\n",
    "            os.system(\"rm %s\" %(basename+\"_\"+filtnames[i]+\"_W_allstarfin.fit\"))                                   \n",
    "            os.system(\"cp %s %s\" %((basename+\"_\"+filtnames[i]+\"_W_allstarsub\"+str(allstarversion+1)+\".fit\"), (basename+\"_\"+filtnames[i]+\"_W_allstarfin.fit\")))\n",
    "            allstarversion = allstarversion + 1'''\n",
    "        #flipper!!!\n",
    "        iraf.flpr()\n",
    "iraf.unlearn(\"display\")\n",
    "iraf.unlearn(\"datapars\")\n",
    "iraf.unlearn(\"findpars\")\n",
    "iraf.unlearn(\"daofind\")\n",
    "iraf.unlearn(\"centerpars\")\n",
    "iraf.unlearn(\"fitskypars\")\n",
    "iraf.unlearn(\"photpars\")\n",
    "iraf.unlearn(\"phot\")\n",
    "iraf.unlearn(\"daopars\")\n",
    "iraf.unlearn(\"psf\")\n",
    "iraf.unlearn(\"pstselect\")\n",
    "iraf.unlearn(\"allstar\")\n",
    "iraf.unlearn(\"pfmerge\")\n",
    "iraf.unlearn(\"imexamine\")\n",
    "os.chdir(directory)"
   ]
  },
  {
   "cell_type": "code",
   "execution_count": null,
   "metadata": {
    "collapsed": true
   },
   "outputs": [],
   "source": [
    "#Does the user want scaling?\n",
    "while True:\n",
    "    hewantsscaling=raw_input(\"Do you want to calculate the scaling factor of the continuum images?\")\n",
    "    if (hewantsscaling == \"N\"):\n",
    "        hewantsscaling = \"n\"\n",
    "    if (hewantsscaling == \"Y\"):\n",
    "        hewantsscaling = \"y\"\n",
    "    if (hewantsscaling == \"y\"):\n",
    "        break\n",
    "    if (hewantsscaling == \"n\"):\n",
    "        break\n",
    "#at least read the output file with the scalings\n",
    "if (hewantsscaling == \"n\"):\n",
    "    os.chdir(\"scaling\")\n",
    "    packs=[]\n",
    "    with open('scalefactors', 'rb') as f:\n",
    "        reader = csv.reader(f, delimiter=',')   \n",
    "        packs = list(reader)\n",
    "#find the scale factors and write them to a file\n",
    "if (hewantsscaling == \"y\"):\n",
    "    os.system(\"mkdir scaling\")\n",
    "    os.chdir(\"scaling\")\n",
    "    for i in filtnames:\n",
    "        os.system(\"cp %s/%s/photometry1.mag ./phot%s\" %(directory, i, i))\n",
    "        os.system(\"cp %s/%s/%s .\" %(directory, i, (basename+\"_\"+i+\"_W_allstarfin.fit\")))\n",
    "    while True:\n",
    "        print(filtnames)\n",
    "        numnarr=input(\"Out of the shown filters, how many are narrowband (not continuum)?\\t\")\n",
    "        if isinstance(numnarr, int):\n",
    "            break\n",
    "    narrows=[]\n",
    "    i=0\n",
    "    while True:\n",
    "        if i<numnarr:\n",
    "            tmpnarrname=raw_input(\"What is the name of the #%01d narrow filter name?\\t\" %(i+1))\n",
    "            narrows.append(tmpnarrname)\n",
    "            i+=1\n",
    "        else:\n",
    "            break\n",
    "    pairs=[]\n",
    "    i=0\n",
    "    while True:\n",
    "        if i<numnarr:\n",
    "            tmpcontname=raw_input(\"What is the name of the continuum filter corresponding to the %s narrow filter? \\t\" %(narrows[i]))\n",
    "            tmppair=[narrows[i],tmpcontname]\n",
    "            pairs.append(tmppair)\n",
    "            i+=1\n",
    "        else:\n",
    "            break\n",
    "    print(pairs)\n",
    "    scfact=[]\n",
    "    for i in range(0,len(pairs)):\n",
    "        currentpair=pairs[i]\n",
    "        currentnarr=currentpair[0]\n",
    "        currentcont=currentpair[1]\n",
    "        narrowcatalogfile = (\"phot%s\" %currentnarr)\n",
    "        continuumcatalogfile = (\"phot%s\" %currentcont)\n",
    "        narrowcatalog = ascii.read(narrowcatalogfile, format='daophot', include_names=['XCENTER', 'YCENTER', 'FLUX'])\n",
    "        continuumcatalog = ascii.read(continuumcatalogfile, format='daophot', include_names=['XCENTER', 'YCENTER', 'FLUX'])\n",
    "        fluxnarr=[]\n",
    "        fluxcont=[]\n",
    "        ratio=[]\n",
    "        print(\"Matching the catalogs before calculating the scaling factor\")\n",
    "        maxlength=(len(narrowcatalog)*len(continuumcatalog))\n",
    "        bar = progressbar.ProgressBar(maxval=maxlength).start()\n",
    "        for i in range(0,len(narrowcatalog)):\n",
    "            for j in range(0,len(continuumcatalog)):\n",
    "                distx = math.pow((narrowcatalog['XCENTER'][i]-continuumcatalog['XCENTER'][j]),2)\n",
    "                disty = math.pow((narrowcatalog['YCENTER'][i]-continuumcatalog['YCENTER'][j]),2)\n",
    "                dist = math.sqrt(distx + disty)\n",
    "                if (dist <= 1.2):\n",
    "                    fluxnarr.append(narrowcatalog['FLUX'][i])\n",
    "                    fluxcont.append(continuumcatalog['FLUX'][j])\n",
    "                bar.update((i*len(continuumcatalog))+j)\n",
    "        i=0\n",
    "        while i<len(fluxnarr):\n",
    "            if (fluxnarr[i]<=0) or (fluxcont[i]<=0):\n",
    "                del fluxnarr[i]\n",
    "                del fluxcont[i]\n",
    "            else:\n",
    "                i+=1\n",
    "        ratio=map(truediv, fluxnarr, fluxcont)\n",
    "        currentscfact=np.median(np.array(ratio))\n",
    "        scfact.append(currentscfact)\n",
    "    packs=[]\n",
    "    for i in range(0,len(pairs)):\n",
    "        currentpack=pairs[i]\n",
    "        currentpack.append(scfact[i])\n",
    "        packs.append(currentpack)\n",
    "    scalefile=open('scalefactors','w')\n",
    "    for item in packs:\n",
    "        scalefile.write(\"%s,%s,%.5f\" %(item[0], item[1], item[2]))\n",
    "    scalefile.close()\n",
    "    print(packs)"
   ]
  },
  {
   "cell_type": "code",
   "execution_count": null,
   "metadata": {
    "collapsed": true
   },
   "outputs": [],
   "source": [
    "#Does the user want scaled-subtraction?\n",
    "while True:\n",
    "    hewantsscaledsub=raw_input(\"Do you want to scale-subtract the continuum images from the narrow-band ones?\")\n",
    "    if (hewantsscaledsub == \"N\"):\n",
    "        hewantsscaledsub = \"n\"\n",
    "    if (hewantsscaledsub == \"Y\"):\n",
    "        hewantsscaledsub = \"y\"\n",
    "    if (hewantsscaledsub == \"y\"):\n",
    "        break\n",
    "    if (hewantsscaledsub == \"n\"):\n",
    "        break\n",
    "if (hewantsscaledsub == \"y\"):\n",
    "    for item in packs:\n",
    "        narrfilt=item[0]\n",
    "        contfilt=item[1]\n",
    "        factorstring=item[2]\n",
    "        factor=float(factorstring)\n",
    "        narrimagename=(basename+\"_\"+narrfilt+\"_W_allstarfin.fit\")\n",
    "        contimagename=(basename+\"_\"+contfilt+\"_W_allstarfin.fit\")\n",
    "        scaledcontimagename=(basename+\"_\"+contfilt+\"scaledfor\"+narrfilt+\"_W_allstarfin.fit\")\n",
    "        finalimagename=(basename+\"_\"+narrfilt+\"_W_allstarfin_scalesub.fit\")\n",
    "        iraf.unlearn(\"imarith\")\n",
    "        iraf.imarith(operand1=contimagename, op=\"*\", operand2=factor, result=scaledcontimagename)\n",
    "        iraf.imarith(operand1=narrimagename, op=\"-\", operand2=scaledcontimagename, result=finalimagename)"
   ]
  }
 ],
 "metadata": {
  "kernelspec": {
   "display_name": "Python 2",
   "language": "python",
   "name": "python2"
  },
  "language_info": {
   "codemirror_mode": {
    "name": "ipython",
    "version": 2
   },
   "file_extension": ".py",
   "mimetype": "text/x-python",
   "name": "python",
   "nbconvert_exporter": "python",
   "pygments_lexer": "ipython2",
   "version": "2.7.11"
  }
 },
 "nbformat": 4,
 "nbformat_minor": 1
}
