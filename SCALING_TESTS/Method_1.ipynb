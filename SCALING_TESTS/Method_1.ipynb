{
 "cells": [
  {
   "cell_type": "code",
   "execution_count": 78,
   "metadata": {
    "collapsed": false
   },
   "outputs": [],
   "source": [
    "#imports\n",
    "import sys\n",
    "import os\n",
    "import fileinput\n",
    "import time\n",
    "from astropy.io import ascii\n",
    "import math\n",
    "import numpy as np\n",
    "from operator import truediv"
   ]
  },
  {
   "cell_type": "code",
   "execution_count": null,
   "metadata": {
    "collapsed": true
   },
   "outputs": [],
   "source": [
    "#filenames\n",
    "narrowcatalogfile = \"G65.8-0.5_6727_combined_W.fit.mag.1\"\n",
    "continuumcatalogfile = \"G65.8-0.5_sdssR_combined_W.fit.mag.1\""
   ]
  },
  {
   "cell_type": "code",
   "execution_count": null,
   "metadata": {
    "collapsed": true
   },
   "outputs": [],
   "source": [
    "#read the tables\n",
    "narrowcatalog = ascii.read(narrowcatalogfile, format='daophot', include_names=['XCENTER', 'YCENTER', 'FLUX'])\n",
    "continuumcatalog = ascii.read(continuumcatalogfile, format='daophot', include_names=['XCENTER', 'YCENTER', 'FLUX'])"
   ]
  },
  {
   "cell_type": "code",
   "execution_count": null,
   "metadata": {
    "collapsed": false
   },
   "outputs": [],
   "source": [
    "#confirmation print\n",
    "print(narrowcatalog)"
   ]
  },
  {
   "cell_type": "code",
   "execution_count": null,
   "metadata": {
    "collapsed": false
   },
   "outputs": [],
   "source": [
    "#confirmation print\n",
    "print(continuumcatalog)"
   ]
  },
  {
   "cell_type": "code",
   "execution_count": null,
   "metadata": {
    "collapsed": true
   },
   "outputs": [],
   "source": [
    "#initialization of flux tables\n",
    "fluxnarr=[]\n",
    "fluxcont=[]"
   ]
  },
  {
   "cell_type": "code",
   "execution_count": null,
   "metadata": {
    "collapsed": false
   },
   "outputs": [],
   "source": [
    "#catalog matching (SLOW)\n",
    "for i in range(0,len(narrowcatalog)):\n",
    "    for j in range(0,len(continuumcatalog)):\n",
    "        distx = math.pow((narrowcatalog['XCENTER'][i]-continuumcatalog['XCENTER'][j]),2)\n",
    "        disty = math.pow((narrowcatalog['YCENTER'][i]-continuumcatalog['YCENTER'][j]),2)\n",
    "        dist = math.sqrt(distx + disty)\n",
    "        #print(dist)\n",
    "        if (dist <= 1):\n",
    "            fluxnarr.append(narrowcatalog['FLUX'][i])\n",
    "            fluxcont.append(continuumcatalog['FLUX'][j])"
   ]
  },
  {
   "cell_type": "code",
   "execution_count": null,
   "metadata": {
    "collapsed": true
   },
   "outputs": [],
   "source": [
    "#personal test\n",
    "print(len(fluxnarr))\n",
    "print(len(fluxcont))\n",
    "print(\"\\nnar \\t cont\")\n",
    "for i in range(0,100):\n",
    "    print(\"%01d \\t %01d\" %(fluxnarr[i],fluxcont[i]))\n",
    "print(\"...............\")"
   ]
  },
  {
   "cell_type": "code",
   "execution_count": null,
   "metadata": {
    "collapsed": false
   },
   "outputs": [],
   "source": [
    "#removing bad values from tables (<=0)\n",
    "i=0\n",
    "while i<len(fluxnarr):\n",
    "    if (fluxnarr[i]<=0) or (fluxcont[i]<=0):\n",
    "        del fluxnarr[i]\n",
    "        del fluxcont[i]\n",
    "    else:\n",
    "        i+=1"
   ]
  },
  {
   "cell_type": "code",
   "execution_count": null,
   "metadata": {
    "collapsed": false
   },
   "outputs": [],
   "source": [
    "#personal test\n",
    "print(len(fluxnarr))\n",
    "print(len(fluxcont))\n",
    "print(\"\\nnar \\t cont\")\n",
    "for i in range(0,100):\n",
    "    print(\"%01d \\t %01d\" %(fluxnarr[i],fluxcont[i]))\n",
    "print(\"...............\")"
   ]
  },
  {
   "cell_type": "code",
   "execution_count": 79,
   "metadata": {
    "collapsed": true
   },
   "outputs": [],
   "source": [
    "#dividing narrow with continuum\n",
    "ratio=map(truediv, fluxnarr, fluxcont)"
   ]
  },
  {
   "cell_type": "code",
   "execution_count": 87,
   "metadata": {
    "collapsed": false
   },
   "outputs": [],
   "source": [
    "#personal test\n",
    "for i in range(0,len(ratio)):\n",
    "    if (ratio[i]>=1):\n",
    "        print(i)"
   ]
  },
  {
   "cell_type": "code",
   "execution_count": 89,
   "metadata": {
    "collapsed": false
   },
   "outputs": [
    {
     "name": "stdout",
     "output_type": "stream",
     "text": [
      "0.143656206991\n",
      "0.0414008645062\n"
     ]
    }
   ],
   "source": [
    "#median of ratio list is scale factor\n",
    "scfact=np.median(np.array(ratio))\n",
    "scferror=np.std(np.array(ratio))\n",
    "print(scfact)\n",
    "print(scferror)"
   ]
  }
 ],
 "metadata": {
  "kernelspec": {
   "display_name": "Python 2",
   "language": "python",
   "name": "python2"
  },
  "language_info": {
   "codemirror_mode": {
    "name": "ipython",
    "version": 2
   },
   "file_extension": ".py",
   "mimetype": "text/x-python",
   "name": "python",
   "nbconvert_exporter": "python",
   "pygments_lexer": "ipython2",
   "version": "2.7.11"
  }
 },
 "nbformat": 4,
 "nbformat_minor": 1
}
